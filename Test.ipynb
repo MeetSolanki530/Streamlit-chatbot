{
 "cells": [
  {
   "cell_type": "code",
   "execution_count": 1,
   "id": "bbc14937-4818-44a6-a6cc-24b411f1523f",
   "metadata": {},
   "outputs": [],
   "source": [
    "from g4f import Client\n",
    "from g4f import Provider\n"
   ]
  },
  {
   "cell_type": "code",
   "execution_count": 2,
   "id": "b94c728e",
   "metadata": {},
   "outputs": [],
   "source": [
    "# !pip install browser-cookie3\n",
    "# !pip install -U curl_cffi\n"
   ]
  },
  {
   "cell_type": "code",
   "execution_count": 7,
   "id": "d2583391-878b-435a-bb05-08e27bed90d1",
   "metadata": {},
   "outputs": [],
   "source": [
    "client = Client(provider=Provider.Kimi) #Provider.MetaAI,Provider.PollinationsAI\n"
   ]
  },
  {
   "cell_type": "code",
   "execution_count": 8,
   "id": "119a6251",
   "metadata": {},
   "outputs": [],
   "source": [
    "response = client.chat.completions.create(\n",
    "    messages=[{\"role\" : \"user\",\"content\": \"Hello How are you? What is ur name?\"}],\n",
    ")\n"
   ]
  },
  {
   "cell_type": "code",
   "execution_count": 9,
   "id": "45288819",
   "metadata": {},
   "outputs": [
    {
     "data": {
      "text/plain": [
       "\"Hi there! I'm Kimi, an AI assistant developed by Moonshot AI. I'm doing well—thanks for asking! How about you?\""
      ]
     },
     "execution_count": 9,
     "metadata": {},
     "output_type": "execute_result"
    }
   ],
   "source": [
    "response.choices[0].message.content\n"
   ]
  },
  {
   "cell_type": "code",
   "execution_count": 10,
   "id": "6f06663f",
   "metadata": {},
   "outputs": [
    {
     "data": {
      "text/plain": [
       "\"Hello! I'm Kimi, your AI assistant. I'm doing great—thanks for asking! How can I help you today?\""
      ]
     },
     "execution_count": 10,
     "metadata": {},
     "output_type": "execute_result"
    }
   ],
   "source": [
    "from g4f import AsyncClient\n",
    "\n",
    "client = AsyncClient(provider=Provider.Kimi) #Provider.MetaAI\n",
    "\n",
    "response = await client.chat.completions.create(\n",
    "    messages=[{\"role\" : \"user\",\"content\": \"Hello How are you? What is ur name?\"}],\n",
    ")\n",
    "\n",
    "response.choices[0].message.content\n"
   ]
  },
  {
   "cell_type": "code",
   "execution_count": 23,
   "id": "662662d2",
   "metadata": {},
   "outputs": [],
   "source": [
    "response = await client.chat.completions.create(\n",
    "    messages=[{\"role\" : \"user\",\"content\": \"Provide some joke\"}],\n",
    ")\n"
   ]
  },
  {
   "cell_type": "code",
   "execution_count": 24,
   "id": "8e68669a",
   "metadata": {},
   "outputs": [
    {
     "name": "stdout",
     "output_type": "stream",
     "text": [
      "Sure! Here's one to hopefully get a smile:\n",
      "\n",
      "Why don’t skeletons fight each other?  \n",
      "\n",
      "Because they don’t have the guts!\n"
     ]
    }
   ],
   "source": [
    "print(response.choices[0].message.content)\n"
   ]
  },
  {
   "cell_type": "code",
   "execution_count": 25,
   "id": "c993acae",
   "metadata": {},
   "outputs": [
    {
     "data": {
      "text/markdown": [
       "Sure! Here's one to hopefully get a smile:\n",
       "\n",
       "Why don’t skeletons fight each other?  \n",
       "\n",
       "Because they don’t have the guts!"
      ],
      "text/plain": [
       "<IPython.core.display.Markdown object>"
      ]
     },
     "execution_count": 25,
     "metadata": {},
     "output_type": "execute_result"
    }
   ],
   "source": [
    "from IPython.display import Markdown\n",
    "Markdown(response.choices[0].message.content)\n"
   ]
  },
  {
   "cell_type": "code",
   "execution_count": null,
   "id": "b6af6126",
   "metadata": {},
   "outputs": [],
   "source": []
  }
 ],
 "metadata": {
  "kernelspec": {
   "display_name": "workai",
   "language": "python",
   "name": "python3"
  },
  "language_info": {
   "codemirror_mode": {
    "name": "ipython",
    "version": 3
   },
   "file_extension": ".py",
   "mimetype": "text/x-python",
   "name": "python",
   "nbconvert_exporter": "python",
   "pygments_lexer": "ipython3",
   "version": "3.12.0"
  }
 },
 "nbformat": 4,
 "nbformat_minor": 5
}
